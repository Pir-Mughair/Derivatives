{
  "nbformat": 4,
  "nbformat_minor": 0,
  "metadata": {
    "colab": {
      "provenance": []
    },
    "kernelspec": {
      "name": "python3",
      "display_name": "Python 3"
    },
    "language_info": {
      "name": "python"
    }
  },
  "cells": [
    {
      "cell_type": "code",
      "execution_count": null,
      "metadata": {
        "colab": {
          "base_uri": "https://localhost:8080/",
          "height": 332
        },
        "id": "OyC5J-PZaYLL",
        "outputId": "da4e7006-1592-4d2f-91e4-bf52cf7e0b7d"
      },
      "outputs": [
        {
          "output_type": "error",
          "ename": "TypeError",
          "evalue": "unsupported operand type(s) for *: 'numpy.ufunc' and 'Symbol'",
          "traceback": [
            "\u001b[0;31m---------------------------------------------------------------------------\u001b[0m",
            "\u001b[0;31mTypeError\u001b[0m                                 Traceback (most recent call last)",
            "\u001b[0;32m<ipython-input-7-125529851825>\u001b[0m in \u001b[0;36m<cell line: 11>\u001b[0;34m()\u001b[0m\n\u001b[1;32m      9\u001b[0m \u001b[0;34m\u001b[0m\u001b[0m\n\u001b[1;32m     10\u001b[0m \u001b[0;34m\u001b[0m\u001b[0m\n\u001b[0;32m---> 11\u001b[0;31m \u001b[0my\u001b[0m \u001b[0;34m=\u001b[0m \u001b[0mnp\u001b[0m\u001b[0;34m.\u001b[0m\u001b[0msin\u001b[0m\u001b[0;34m*\u001b[0m\u001b[0;34m(\u001b[0m\u001b[0mx\u001b[0m\u001b[0;34m)\u001b[0m\u001b[0;34m\u001b[0m\u001b[0;34m\u001b[0m\u001b[0m\n\u001b[0m\u001b[1;32m     12\u001b[0m \u001b[0;34m\u001b[0m\u001b[0m\n\u001b[1;32m     13\u001b[0m \u001b[0mdydx\u001b[0m \u001b[0;34m=\u001b[0m \u001b[0msmp\u001b[0m\u001b[0;34m.\u001b[0m\u001b[0mdiff\u001b[0m\u001b[0;34m(\u001b[0m\u001b[0my\u001b[0m\u001b[0;34m,\u001b[0m\u001b[0mx\u001b[0m\u001b[0;34m)\u001b[0m\u001b[0;34m\u001b[0m\u001b[0;34m\u001b[0m\u001b[0m\n",
            "\u001b[0;31mTypeError\u001b[0m: unsupported operand type(s) for *: 'numpy.ufunc' and 'Symbol'"
          ]
        }
      ],
      "source": [
        "import numpy as np\n",
        "import scipy as sp\n",
        "import sympy as smp\n",
        "import matplotlib.pyplot as plt\n",
        "from scipy.misc import derivative\n",
        "import math\n",
        "\n",
        "x,y, = smp.symbols('x,y,', real=True)\n",
        "\n",
        "\n",
        "y = np.sin(x)\n",
        "\n",
        "dydx = smp.diff(y,x)\n",
        "dydx\n",
        "\n",
        "#dydx.subs(x,2)\n",
        "print(dydx)\n",
        "\n",
        "#print(dydx.subs(x,2))\n",
        "\n",
        "\n",
        "\n",
        "def f(x):\n",
        "  return sin(x)\n",
        "\n",
        "xlist = np.linspace(-10,10)\n",
        "\n",
        "ylist = f(xlist)\n",
        "\n",
        "plt.figure(num=0,dpi=120)\n",
        "plt.plot(xlist, ylist)\n",
        "plt.xlabel('Horizontal')\n",
        "plt.ylabel('Vertival')\n",
        "\n",
        "plt.show()"
      ]
    },
    {
      "cell_type": "code",
      "source": [
        "#------1st and 2nd Derivative------#\n",
        "# No plot\n",
        "\n",
        "import numpy as np\n",
        "import scipy as sp\n",
        "import sympy as smp\n",
        "import matplotlib.pyplot as plt\n",
        "from scipy.misc import derivative\n",
        "import math\n",
        "\n",
        "x,y = smp.symbols('x,y',  real=True)\n",
        "\n",
        "y = x**3 + x**2 + x\n",
        "\n",
        "#1st derivative\n",
        "\n",
        "dydx = smp.diff(y,x)\n",
        "dydx\n",
        "dydx.subs(x,3)\n",
        "\n",
        "print(dydx)\n",
        "print(dydx.subs(x,3))\n",
        "\n",
        "#2nd derivative\n",
        "d2ydx2 =smp.diff(y,x,2)\n",
        "d2ydx2\n",
        "print(d2ydx2)\n",
        "\n",
        "\n"
      ],
      "metadata": {
        "colab": {
          "base_uri": "https://localhost:8080/"
        },
        "id": "vJmVI1Zvt_DI",
        "outputId": "69b08fa7-1602-485b-a460-28963e34a3da"
      },
      "execution_count": null,
      "outputs": [
        {
          "output_type": "stream",
          "name": "stdout",
          "text": [
            "3*x**2 + 2*x + 1\n",
            "34\n",
            "2*(3*x + 1)\n"
          ]
        }
      ]
    },
    {
      "cell_type": "code",
      "source": [
        "#-----Different Code------#\n",
        "\n",
        "import numpy as np\n",
        "import sympy as smp\n",
        "import scipy as sp\n",
        "import matplotlib.pyplot as plt\n",
        "import math\n",
        "from scipy.misc import derivative\n",
        "\n",
        "x,y,a = smp.symbols('x,y,a', real = True)\n",
        "def f(x,a,y):\n",
        "  return a*x**3\n",
        "y = a*x**3\n",
        "\n",
        "dydx = smp.diff(y,x)\n",
        "dydx\n",
        "print(dydx)\n",
        "\n",
        "d2ydx2 = smp.diff(y,x,2)\n",
        "d2ydx2\n",
        "print(d2ydx2)\n",
        "\n",
        "dydx.subs([(x,2),(a,3)])"
      ],
      "metadata": {
        "colab": {
          "base_uri": "https://localhost:8080/",
          "height": 72
        },
        "id": "G18-I5ee3KiR",
        "outputId": "349de328-f435-4754-ccce-030ee0a92b4b"
      },
      "execution_count": null,
      "outputs": [
        {
          "output_type": "stream",
          "name": "stdout",
          "text": [
            "3*a*x**2\n",
            "6*a*x\n"
          ]
        },
        {
          "output_type": "execute_result",
          "data": {
            "text/plain": [
              "36"
            ],
            "text/latex": "$\\displaystyle 36$"
          },
          "metadata": {},
          "execution_count": 3
        }
      ]
    },
    {
      "cell_type": "code",
      "source": [
        "#----- Find 1st and 2nd Derivative-------#\n",
        "# NO plot\n",
        "# Algebric Function\n",
        "\n",
        "import numpy as np\n",
        "import sympy as smp\n",
        "import scipy as sp\n",
        "from scipy.misc import derivative\n",
        "import math\n",
        "\n",
        "x, y, z, a, b = smp.symbols('x,y,z,a,b', real = True)\n",
        "\n",
        "y = (a*x**2) / (b*z)\n",
        "\n",
        "# First Derivative\n",
        "\n",
        "dydx = smp.diff(y,x,2)\n",
        "dydx\n",
        "print(dydx)\n",
        "\n",
        "# 2nd Derivative\n",
        "\n",
        "dydz = smp.diff(y,z,2)\n",
        "dydz\n",
        "print(dydz)\n",
        "\n"
      ],
      "metadata": {
        "colab": {
          "base_uri": "https://localhost:8080/"
        },
        "id": "5jOT-7miXWmk",
        "outputId": "95ef1ed0-de09-486b-b48d-e81989b6adf1"
      },
      "execution_count": null,
      "outputs": [
        {
          "output_type": "stream",
          "name": "stdout",
          "text": [
            "2*a/(b*z)\n",
            "2*a*x**2/(b*z**3)\n"
          ]
        }
      ]
    },
    {
      "cell_type": "code",
      "source": [
        "#-----Only first Derivative-------#\n",
        "# trigonometric function\n",
        "\n",
        "import numpy as np\n",
        "import scipy as sp\n",
        "import sympy as smp\n",
        "import matplotlib.pyplot as plt\n",
        "from scipy.misc import derivative\n",
        "\n",
        "x, a, b, c = smp.symbols('x, a, b, c', real=True)\n",
        "f =  x**2+(smp.sin(x))\n",
        "\n",
        "dfdx = smp.diff(f, x)\n",
        "dfdx\n",
        "\n",
        "dfdx.subs(x,2).evalf()\n",
        "print(f)\n",
        "\n",
        "#--------------------------x------------------------#\n",
        "\n",
        "# x = smp.symbols('x', real=True)\n",
        "# f = smp.cos(x)**2\n",
        "\n",
        "# # First derivative with respect to x\n",
        "# dfdx = smp.diff(f, x)\n",
        "# dfdx\n",
        "# print(dfdx)\n",
        "\n",
        "# # Compute numerical values by substitution method\n",
        "\n",
        "# dfdx.subs(x,2) # just substituted value of x which is 2\n",
        "# print(dfdx.subs(x,2))\n",
        "\n",
        "# dfdx.subs(x,2).evalf() # give numerical value\n",
        "\n",
        "#------------------x-----------------------------------#\n",
        "\n",
        "# x = smp.symbols('x', real=True)\n",
        "# f = smp.sin(x) + x\n",
        "# dfdx = smp.diff(f, x,input('nth time derivatives : '))\n",
        "# dfdx\n",
        "# # dfdx.subs(x,input('value of x : ')).evalf()\n",
        "# print(dfdx)\n",
        "# # print(dfdx.subs(x,input('value of x : ')).evalf())\n"
      ],
      "metadata": {
        "colab": {
          "base_uri": "https://localhost:8080/"
        },
        "id": "c96q9ga-_L8q",
        "outputId": "2df539dc-b85d-4b3e-b1d9-cbb4fb547f1b"
      },
      "execution_count": null,
      "outputs": [
        {
          "output_type": "stream",
          "name": "stdout",
          "text": [
            "x**2 + sin(x)\n"
          ]
        }
      ]
    },
    {
      "cell_type": "code",
      "source": [
        "import numpy as np\n",
        "import matplotlib.pyplot as plt\n",
        "import pandas as pd\n",
        "\n",
        "\n",
        "\n",
        "x = np.arange(1, 500, 1)\n",
        "y = 0.4*x + 30\n",
        "plt.plot(x,y)\n",
        "\n",
        "trainx, testx = x[0:int(0.8*(len(x)))], x[int(0.8*len(x)):]\n",
        "trainy, testy = y[0:int(0.8*(len(y)))], y[int(0.8*len(y)):]\n",
        "train = np.array(list(zip(trainx,trainy)))\n",
        "test = np.array(list(zip(trainx,trainy)))\n",
        "\n",
        "def create_dataset(n_X, look_back):\n",
        "  dataX, dataY = [], []\n",
        "  for i in range(len(n_X)-look_back):\n",
        "    a = n_X[i:(i+look_back), ]\n",
        "    dataX.append(a)\n",
        "    dataY.append(n_X[i + look_back, ])\n",
        "  return np.array(dataX), np.array(dataY)\n",
        "\n",
        "look_back = 1\n",
        "trainx,trainy = create_dataset(train, look_back)\n",
        "testx,testy = create_dataset(test, look_back)\n",
        "\n",
        "trainx = np.reshape(trainx, (trainx.shape[0], 1, 2))\n",
        "trainx = np.reshape(testx, (testx.shape[0], 1, 2))\n",
        "\n",
        "\n",
        "\n",
        "from keras.models import Sequential\n",
        "from keras.layers import LSTM, Dense\n",
        "model = Sequential()\n",
        "model.add(LSTM(256, return_sequences=True, input_shape=(trainx.shape[1], 2)))\n",
        "model.add(LSTM(128,input_shape=(trainx.shape[1], 2)))\n",
        "model.add(Dense(2))\n",
        "model.compile(loss='mean_squared_error', optimizer = 'adam')\n",
        "model.fit(trainx, trainy, epochs=2000, batch_size=10, verbose=2, shuffle=False)\n",
        "model.save_weights('K')\n",
        "\n",
        "\n",
        "model.load_weights('Karachi 100 Historical Data (1).csv')\n",
        "predict = model.predict(testx)\n",
        "\n",
        "plt.plot(testx.reshape(398,2)[:,0:1], testx.reshape(398,2)[:,1:2])\n",
        "plt.plot(predict[:,0:1], predict[:,1:2])\n"
      ],
      "metadata": {
        "id": "CoQ_jpa1KhpO"
      },
      "execution_count": null,
      "outputs": []
    },
    {
      "cell_type": "code",
      "source": [
        "import numpy as np\n",
        "import pandas as pd\n",
        "import matplotlib.pyplot as plt\n",
        "\n",
        "df = pd.read_csv('dataset.csv')\n",
        "w = df.iloc[:, 1].values # this dataframe into numpy array\n",
        "\n",
        "print(w)\n",
        "\n",
        "wlist = np.linspace(0,1)\n",
        "\n",
        "\n",
        "\n",
        "# plt.figure(num=0,dpi=120)\n",
        "plt.plot(wlist)\n",
        "plt.xlabel('Price')\n",
        "plt.ylabel('Open')\n",
        "\n",
        "plt.show()"
      ],
      "metadata": {
        "colab": {
          "base_uri": "https://localhost:8080/",
          "height": 518
        },
        "id": "A0fT5vdDMrdT",
        "outputId": "ea1bb990-612c-4533-d82a-887f0883e2c0"
      },
      "execution_count": null,
      "outputs": [
        {
          "output_type": "stream",
          "name": "stdout",
          "text": [
            "['41,630.94' '41,903.51' '41,898.70' '42,299.19' '42,539.23' '42,633.03'\n",
            " '42,506.95' '42,561.27' '42,626.48' '42,747.63' '43,167.77' '43,065.10'\n",
            " '42,993.03' '43,207.04' '43,218.67' '43,207.05' '42,523.07' '41,357.56'\n",
            " '41,904.47' '41,296.24' '42,323.30' '42,480.76' '41,400.00']\n"
          ]
        },
        {
          "output_type": "display_data",
          "data": {
            "text/plain": [
              "<Figure size 640x480 with 1 Axes>"
            ],
            "image/png": "[encoded data removed]"
          },
          "metadata": {}
        }
      ]
    },
    {
      "cell_type": "code",
      "source": [
        "import numpy as np\n",
        "import pandas as pd\n",
        "import matplotlib.pyplot as plt\n",
        "from sklearn.preprocessing import MinMaxScaler\n",
        "# from tensorflow.keras.models import Sequential\n",
        "# from tensorflow.keras.layers import LSTM, Dense\n",
        "\n",
        "data = pd.read_csv('dataset.csv')\n",
        "data['Date'] = pd.to_datetime(data['Date']) # change date format\n",
        "data.set_index('Date', inplace=True) # mention number series like (1,2,3,4,5...)\n",
        "w = data.iloc[:, 1:3].values # to select the columne (iloc means location of column)\n",
        "# print(data)\n",
        "print(w)\n",
        "\n",
        "\n",
        "# scaler =MinMaxScaler()\n",
        "# scaler.fit_transform(w)\n",
        "\n",
        "# w = np.linspace(-10,10,1000)\n",
        "# plt.plot(data)\n",
        "# plt.show()"
      ],
      "metadata": {
        "colab": {
          "base_uri": "https://localhost:8080/"
        },
        "id": "lg_zGrIJTUja",
        "outputId": "2927d64d-ee40-4d85-b70d-5c10bc4b1053"
      },
      "execution_count": null,
      "outputs": [
        {
          "output_type": "stream",
          "name": "stdout",
          "text": [
            "[['41,903.50' '42,137.40']\n",
            " ['41,898.70' '41,982.70']\n",
            " ['42,299.19' '42,429.49']\n",
            " ['42,539.23' '42,539.23']\n",
            " ['42,633.02' '42,738.56']\n",
            " ['42,506.95' '42,707.43']\n",
            " ['42,561.27' '42,906.14']\n",
            " ['42,626.47' '42,675.42']\n",
            " ['42,747.62' '42,965.41']\n",
            " ['43,167.76' '43,302.61']\n",
            " ['43,065.09' '43,246.61']\n",
            " ['42,993.02' '43,205.26']\n",
            " ['43,207.04' '43,239.88']\n",
            " ['43,218.67' '43,468.22']\n",
            " ['43,207.05' '43,453.34']\n",
            " ['42,523.07' '43,241.78']\n",
            " ['41,357.56' '42,556.01']\n",
            " ['41,904.47' '41,939.47']\n",
            " ['41,296.24' '41,967.94']\n",
            " ['42,323.30' '42,323.30']\n",
            " ['42,480.76' '42,835.08']\n",
            " ['41,400.00' '42,543.73']\n",
            " ['40,735.08' '41,544.05']]\n"
          ]
        }
      ]
    },
    {
      "cell_type": "code",
      "source": [
        "\n",
        "import numpy as np\n",
        "import matplotlib.pyplot as plt\n",
        "\n",
        "# Generate x values from -2*pi to 2*pi\n",
        "x = np.linspace(-2*np.pi, 2*np.pi, 1000)\n",
        "\n",
        "# Calculate y values (sin(x))\n",
        "y = np.sin(x)\n",
        "\n",
        "# Plot the sine function\n",
        "plt.plot(x, y)\n",
        "plt.xlabel('x')\n",
        "plt.ylabel('sin(x)')\n",
        "plt.title('Plot of sin(x)')\n",
        "plt.grid(True)\n",
        "plt.show()"
      ],
      "metadata": {
        "id": "_TO_D82Ef86F",
        "outputId": "165fff98-9731-4f9f-ae60-547a4c79e205",
        "colab": {
          "base_uri": "https://localhost:8080/",
          "height": 227
        }
      },
      "execution_count": null,
      "outputs": [
        {
          "output_type": "display_data",
          "data": {
            "text/plain": [
              "<Figure size 640x480 with 1 Axes>"
            ],
            "image/png": "[encoded data removed]"
          },
          "metadata": {}
        }
      ]
    },
    {
      "cell_type": "code",
      "source": [
        "#linear equation in one variable\n",
        "\n",
        "import numpy as np\n",
        "\n",
        "# x = int(input(\" value of x: \"))\n",
        "# n = 1 #\n",
        "# def lnf(x):\n",
        "#   a = int(input(\" value of a: \"))\n",
        "#   b = int(input(\" value of b: \"))\n",
        "#   result = a*x**n + b\n",
        "#   return result\n",
        "# print(lnf(x))\n",
        "\n",
        "#-------------------------------------\n",
        "\n",
        "# Quadratic Equation in one variable\n",
        "\n",
        "# x = int(input(\" Enter a value of x: \"))\n",
        "# n = 2 #int(input(\" Enter a value of n: \"))\n",
        "# def lnf(x):\n",
        "#   a = int(input(\" Enter a value of a: \"))\n",
        "#   b = int(input(\" Enter a value of b: \"))\n",
        "#   c = int(input(\" Enter a value of c: \"))\n",
        "#   result = a*x**n + b*x + c\n",
        "#   return result\n",
        "# print(lnf(x))\n",
        "\n",
        "#--------------------------------------\n",
        "\n",
        "# Cubic Equation in one variable\n",
        "\n",
        "x = int(input(\" Enter a value of x: \"))\n",
        "n = 3\n",
        "def lnf(x):\n",
        "  a = int(input(\" Enter a value of a: \"))\n",
        "  b =int(input(\" Enter a value of b: \"))\n",
        "  c = int(input(\" Enter a value of C:\"))\n",
        "  d = int(input(\" Enter a value of d: \"))\n",
        "  result = a*x**(n-0) + b*x**(n-1) + c*x**(n-2) + d\n",
        "  return result\n",
        "print(lnf(x))"
      ],
      "metadata": {
        "colab": {
          "base_uri": "https://localhost:8080/"
        },
        "id": "p5G9xDMRhrq0",
        "outputId": "367db090-7607-4c6e-84a9-f415b4510127"
      },
      "execution_count": null,
      "outputs": [
        {
          "output_type": "stream",
          "name": "stdout",
          "text": [
            " Enter a value of x: 1\n",
            " Enter a value of a: 2\n",
            " Enter a value of b: 3\n",
            " Enter a value of C:4\n",
            " Enter a value of d: 5\n",
            "14\n"
          ]
        }
      ]
    }
  ]
}